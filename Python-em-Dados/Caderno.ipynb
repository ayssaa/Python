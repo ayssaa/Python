{
 "cells": [
  {
   "cell_type": "markdown",
   "metadata": {},
   "source": [
    "<h2>Python</h2>"
   ]
  },
  {
   "cell_type": "code",
   "execution_count": 69,
   "metadata": {},
   "outputs": [
    {
     "name": "stdout",
     "output_type": "stream",
     "text": [
      "1° Valor Aleatório: 8\n",
      "2° Valor Aleatório: 7\n",
      "3° Valor Aleatório: 2\n",
      "4° Valor Aleatório: 3\n",
      "5° Valor Aleatório: 6\n"
     ]
    }
   ],
   "source": [
    "# Importando a biblioteca random\n",
    "import random\n",
    "\n",
    "# Criando um laço para gerar 5 números aleatórios\n",
    "contador = 0\n",
    "for i in range(5): \n",
    "    contador += 1\n",
    "    valor_aleatorio = random.randint(1,10)\n",
    "    print(f'{contador}° Valor Aleatório: {valor_aleatorio}')\n"
   ]
  },
  {
   "cell_type": "markdown",
   "metadata": {},
   "source": [
    "<h3>Jogo de Adivinhação! bug</h3>"
   ]
  },
  {
   "cell_type": "code",
   "execution_count": 4,
   "metadata": {},
   "outputs": [
    {
     "name": "stdout",
     "output_type": "stream",
     "text": [
      "------Bem-vindo(a) ao Jogo de Adivinhação 2.0------\n",
      "Tente acertar qual número, entre 1 e 15, eu estou pensando!\n",
      "Chances restantes: 3\n"
     ]
    },
    {
     "name": "stdout",
     "output_type": "stream",
     "text": [
      "Alto demais!\n",
      "Chances restantes: 2\n",
      "Baixo demais!\n",
      "Chances restantes: 1\n",
      "Você acertou!\n"
     ]
    }
   ],
   "source": [
    "# Importando a biblioteca random\n",
    "import random\n",
    "\n",
    "# Iniciando o jogo\n",
    "jogo = 's'\n",
    "while jogo == 's':\n",
    "    print(\"------Bem-vindo(a) ao Jogo de Adivinhação 2.0------\")\n",
    "    print(\"Tente acertar qual número, entre 1 e 15, eu estou pensando!\")\n",
    "    \n",
    "    num = random.randint(1,15) # Gerando o número aleatório da rodada\n",
    "    chance = 4 # Definindo a quantidade de chances\n",
    "    venceu = False # Definindo minha variável Boolean para saber se o jogador venceu/perdeu\n",
    "\n",
    "    # Recebendo os chutes do jogador\n",
    "    for i in range(3):\n",
    "        chance -= 1 # Diminuindo suas chances de chute\n",
    "        print(f\"Chances restantes: {chance}\")\n",
    "        chute = int(input(\"Digite seu chute: \"))\n",
    "        if chute == num:\n",
    "            venceu = True\n",
    "            break\n",
    "        else:\n",
    "            if chute > num:\n",
    "                print(\"Alto demais!\")\n",
    "            elif chute < num:\n",
    "                print(\"Baixo demais!\")\n",
    "    if venceu:\n",
    "        print(\"Você acertou!\")\n",
    "    else:\n",
    "        print(f\"Suas chances acabaram, você perdeu! O número era {num}\") \n",
    "    jogo = input(\"Deseja jogar novamente? \")       \n"
   ]
  },
  {
   "cell_type": "code",
   "execution_count": null,
   "metadata": {},
   "outputs": [],
   "source": []
  }
 ],
 "metadata": {
  "kernelspec": {
   "display_name": "Python 3",
   "language": "python",
   "name": "python3"
  },
  "language_info": {
   "codemirror_mode": {
    "name": "ipython",
    "version": 3
   },
   "file_extension": ".py",
   "mimetype": "text/x-python",
   "name": "python",
   "nbconvert_exporter": "python",
   "pygments_lexer": "ipython3",
   "version": "3.12.8"
  }
 },
 "nbformat": 4,
 "nbformat_minor": 2
}
